{
 "cells": [
  {
   "cell_type": "code",
   "execution_count": 1,
   "id": "73c3983e",
   "metadata": {},
   "outputs": [],
   "source": [
    "from sympy import *"
   ]
  },
  {
   "cell_type": "markdown",
   "id": "aeec5a00",
   "metadata": {},
   "source": [
    "# ket-side transition constants and equation"
   ]
  },
  {
   "cell_type": "code",
   "execution_count": 2,
   "id": "a96b7bec",
   "metadata": {},
   "outputs": [
    {
     "data": {
      "text/latex": [
       "$\\displaystyle \\rho_{\\gamma \\beta}$"
      ],
      "text/plain": [
       "rho_gamma_beta"
      ]
     },
     "execution_count": 2,
     "metadata": {},
     "output_type": "execute_result"
    }
   ],
   "source": [
    "# symbols\n",
    "\n",
    "rabi_ag = Symbol('Omega_alpha_gamma')\n",
    "rho_ab0 = Symbol('rho^0_alpha_beta')\n",
    "rho_gb0 = Symbol('rho^0_gamma_beta')\n",
    "k_lasers = Symbol('k_lasers')\n",
    "k = Symbol('k')\n",
    "z = Symbol('z')\n",
    "omega_lasers = Symbol('omega_lasers')\n",
    "omega = Symbol('omega')\n",
    "omega_gb = Symbol('omega_gamma_beta')\n",
    "t = Symbol('t')\n",
    "gamma_gb = Symbol('Gamma_gamma_beta')\n",
    "rho_gb = Symbol('rho_gamma_beta')\n",
    "rho_gb\n"
   ]
  },
  {
   "cell_type": "code",
   "execution_count": 3,
   "id": "6ef52eeb",
   "metadata": {},
   "outputs": [
    {
     "data": {
      "text/latex": [
       "$\\displaystyle \\rho_{\\gamma \\beta} = \\frac{\\Omega_{\\alpha \\gamma} \\rho^{0}_{\\alpha \\beta} \\left(\\frac{e^{i \\left(- t \\left(- \\omega + \\omega_{lasers}\\right) + z \\left(- k + k_{lasers}\\right)\\right)}}{- i \\Gamma_{\\gamma \\beta} + \\omega + \\omega_{\\gamma \\beta} - \\omega_{lasers}} + \\frac{e^{i \\left(- t \\left(\\omega + \\omega_{lasers}\\right) + z \\left(k + k_{lasers}\\right)\\right)}}{- i \\Gamma_{\\gamma \\beta} - \\omega + \\omega_{\\gamma \\beta} - \\omega_{lasers}}\\right)}{2} + \\rho^{0}_{\\gamma \\beta} e^{- \\Gamma_{\\gamma \\beta}} e^{- i \\omega_{\\gamma \\beta} t} + \\left(- \\frac{e^{i z \\left(- k + k_{lasers}\\right)}}{- i \\Gamma_{\\gamma \\beta} + \\omega + \\omega_{\\gamma \\beta} - \\omega_{lasers}} - \\frac{e^{i z \\left(k + k_{lasers}\\right)}}{- i \\Gamma_{\\gamma \\beta} - \\omega + \\omega_{\\gamma \\beta} - \\omega_{lasers}}\\right) e^{- \\Gamma_{\\gamma \\beta} t} e^{- i \\omega_{\\gamma \\beta} t}$"
      ],
      "text/plain": [
       "Eq(rho_gamma_beta, Omega_alpha_gamma*rho^0_alpha_beta*(exp(I*(-t*(-omega + omega_lasers) + z*(-k + k_lasers)))/(-I*Gamma_gamma_beta + omega + omega_gamma_beta - omega_lasers) + exp(I*(-t*(omega + omega_lasers) + z*(k + k_lasers)))/(-I*Gamma_gamma_beta - omega + omega_gamma_beta - omega_lasers))/2 + rho^0_gamma_beta*exp(-Gamma_gamma_beta)*exp(-I*omega_gamma_beta*t) + (-exp(I*z*(-k + k_lasers))/(-I*Gamma_gamma_beta + omega + omega_gamma_beta - omega_lasers) - exp(I*z*(k + k_lasers))/(-I*Gamma_gamma_beta - omega + omega_gamma_beta - omega_lasers))*exp(-Gamma_gamma_beta*t)*exp(-I*omega_gamma_beta*t))"
      ]
     },
     "execution_count": 3,
     "metadata": {},
     "output_type": "execute_result"
    }
   ],
   "source": [
    "Eq(rho_gb, (rabi_ag*rho_ab0/2)*\n",
    "   ((exp(I*((k_lasers + k)*z - (omega_lasers + omega)*t))/(omega_gb - (omega_lasers+omega) - I*gamma_gb))+\n",
    "   (exp(I*((k_lasers - k)*z - (omega_lasers - omega)*t))/(omega_gb - (omega_lasers-omega) - I*gamma_gb)))+\n",
    "  exp(-gamma_gb*t)*exp(-I*omega_gb*t)*\n",
    "  (-exp(I*(k_lasers + k)*z)/(omega_gb - (omega_lasers + omega) - I*gamma_gb)+\n",
    "  (-exp(I*(k_lasers - k)*z)/(omega_gb - (omega_lasers - omega) - I*gamma_gb)))+\n",
    "   rho_gb0*exp(-gamma_gb)*exp(-I*omega_gb*t))"
   ]
  },
  {
   "cell_type": "markdown",
   "id": "eb998b4e",
   "metadata": {},
   "source": [
    "# bra-side transition constants and equations"
   ]
  },
  {
   "cell_type": "code",
   "execution_count": 4,
   "id": "0815e8e2",
   "metadata": {},
   "outputs": [
    {
     "data": {
      "text/latex": [
       "$\\displaystyle \\rho_{\\alpha \\gamma}$"
      ],
      "text/plain": [
       "rho_alpha_gamma"
      ]
     },
     "execution_count": 4,
     "metadata": {},
     "output_type": "execute_result"
    }
   ],
   "source": [
    "# symbols\n",
    "\n",
    "rabi_bg = Symbol('Omega_beta_gamma')\n",
    "rho_ag0 = Symbol('rho^0_alpha_gamma')\n",
    "rho_ab0 = Symbol('rho^0_alpha_beta')\n",
    "k_lasers = Symbol('k_lasers')\n",
    "k = Symbol('k')\n",
    "z = Symbol('z')\n",
    "omega_lasers = Symbol('omega_lasers')\n",
    "omega = Symbol('omega')\n",
    "omega_ga = Symbol('omega_gamma_alpha')\n",
    "t = Symbol('t')\n",
    "gamma_gb = Symbol('Gamma_gamma_beta')\n",
    "gamma_ga = Symbol('Gamma_gamma_alpha')\n",
    "rho_ag = Symbol('rho_alpha_gamma')\n",
    "rho_ag\n"
   ]
  },
  {
   "cell_type": "code",
   "execution_count": 5,
   "id": "300377ba",
   "metadata": {},
   "outputs": [
    {
     "data": {
      "text/latex": [
       "$\\displaystyle \\rho_{\\alpha \\gamma} = \\frac{\\Omega_{\\beta \\gamma} \\rho^{0}_{\\alpha \\beta} \\left(\\frac{e^{i \\left(- t \\left(\\omega + \\omega_{lasers}\\right) + z \\left(k + k_{lasers}\\right)\\right)}}{i \\Gamma_{\\gamma \\beta} + \\omega + \\omega_{\\gamma \\alpha} + \\omega_{lasers}} + \\frac{e^{i \\left(- t \\left(- \\omega + \\omega_{lasers}\\right) + z \\left(- k + k_{lasers}\\right)\\right)}}{i \\Gamma_{\\gamma \\beta} - \\omega + \\omega_{\\gamma \\beta} + \\omega_{lasers}}\\right)}{2} + \\rho^{0}_{\\alpha \\gamma} e^{- \\Gamma_{\\gamma \\alpha}} e^{i \\omega_{\\gamma \\alpha} t} + \\left(- \\frac{e^{i z \\left(- k + k_{lasers}\\right)}}{i \\Gamma_{\\gamma \\beta} - \\omega + \\omega_{\\gamma \\alpha} + \\omega_{lasers}} - \\frac{e^{i z \\left(k + k_{lasers}\\right)}}{i \\Gamma_{\\gamma \\alpha} + \\omega + \\omega_{\\gamma \\alpha} + \\omega_{lasers}}\\right) e^{- \\Gamma_{\\gamma \\alpha} t} e^{i \\omega_{\\gamma \\alpha} t}$"
      ],
      "text/plain": [
       "Eq(rho_alpha_gamma, Omega_beta_gamma*rho^0_alpha_beta*(exp(I*(-t*(omega + omega_lasers) + z*(k + k_lasers)))/(I*Gamma_gamma_beta + omega + omega_gamma_alpha + omega_lasers) + exp(I*(-t*(-omega + omega_lasers) + z*(-k + k_lasers)))/(I*Gamma_gamma_beta - omega + omega_gamma_beta + omega_lasers))/2 + rho^0_alpha_gamma*exp(-Gamma_gamma_alpha)*exp(I*omega_gamma_alpha*t) + (-exp(I*z*(-k + k_lasers))/(I*Gamma_gamma_beta - omega + omega_gamma_alpha + omega_lasers) - exp(I*z*(k + k_lasers))/(I*Gamma_gamma_alpha + omega + omega_gamma_alpha + omega_lasers))*exp(-Gamma_gamma_alpha*t)*exp(I*omega_gamma_alpha*t))"
      ]
     },
     "execution_count": 5,
     "metadata": {},
     "output_type": "execute_result"
    }
   ],
   "source": [
    "Eq(rho_ag, (rabi_bg*rho_ab0/2)*\n",
    "   ((exp(I*((k_lasers + k)*z - (omega_lasers + omega)*t))/(omega_ga + (omega_lasers+omega) + I*gamma_gb))+\n",
    "   (exp(I*((k_lasers - k)*z - (omega_lasers - omega)*t))/(omega_gb + (omega_lasers-omega) + I*gamma_gb)))+\n",
    "  exp(-gamma_ga*t)*exp(I*omega_ga*t)*\n",
    "  (-exp(I*(k_lasers + k)*z)/(omega_ga + (omega_lasers + omega) + I*gamma_ga)+\n",
    "  (-exp(I*(k_lasers - k)*z)/(omega_ga + (omega_lasers - omega) + I*gamma_gb)))+\n",
    "   rho_ag0*exp(-gamma_ga)*exp(I*omega_ga*t))"
   ]
  },
  {
   "cell_type": "code",
   "execution_count": null,
   "id": "d27c3e42",
   "metadata": {},
   "outputs": [],
   "source": []
  }
 ],
 "metadata": {
  "kernelspec": {
   "display_name": "Python 3 (ipykernel)",
   "language": "python",
   "name": "python3"
  },
  "language_info": {
   "codemirror_mode": {
    "name": "ipython",
    "version": 3
   },
   "file_extension": ".py",
   "mimetype": "text/x-python",
   "name": "python",
   "nbconvert_exporter": "python",
   "pygments_lexer": "ipython3",
   "version": "3.9.12"
  }
 },
 "nbformat": 4,
 "nbformat_minor": 5
}
