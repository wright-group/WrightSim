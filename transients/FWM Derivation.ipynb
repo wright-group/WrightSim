{
 "cells": [
  {
   "cell_type": "code",
   "execution_count": 1,
   "id": "70ec217a",
   "metadata": {},
   "outputs": [],
   "source": [
    "# imports\n",
    "\n",
    "from sympy import *\n",
    "from sympy.physics.units.quantities import Quantity"
   ]
  },
  {
   "cell_type": "code",
   "execution_count": 3,
   "id": "c6f7e68f",
   "metadata": {},
   "outputs": [],
   "source": [
    "# define variables\n",
    "\n",
    "#rhos\n",
    "rho_ij, rho_kj, rho_ik = symbols(\"rho_ij, rho_kj, rho_ik\", finite=True, extended_positive=True)\n",
    "#rhodots\n",
    "##rhodot_ij = symbols(\"rhodot_ij\")\n",
    "#rhotildes\n",
    "rhotilde_kj, rhotilde_ik = symbols(\"rhotilde_kj, rhotilde_ik\", finite=True, extended_positive=True)\n",
    "\n",
    "#deltas\n",
    "delta_ij, delta_kj, delta_ik = symbols(\"delta_ij, delta_kj, delta_ik\", complex=True)\n",
    "\n",
    "#Rabis\n",
    "Rabi_ik = Quantity(name=\"Rabi_ik\", latex_repr=\"\\Omega_{ik}\") \n",
    "Rabi_jk = Quantity(name=\"Rabi_jk\", latex_repr=\"\\Omega_{jk}\")\n",
    "\n",
    "#omegas\n",
    "omega = Quantity(name=\"omega\", latex_repr=\"\\omega\", complex=False) \n",
    "omega_kj = Quantity(name=\"omega_kj\", latex_repr=\"\\omega_{kj}\") \n",
    "omega_ik = Quantity(name=\"omega_ik\", latex_repr=\"\\omega_{ik}\") \n",
    "\n",
    "#other\n",
    "t = Symbol(\"t\", extended_positive=True)\n",
    "hbar = Quantity(\"hbar\")\n",
    "kvec, zvec = symbols(\"kvec, zvec\", imaginary=False, complex=False)\n",
    "\n",
    "#symbols(\"rhodot_ij\")\n"
   ]
  },
  {
   "cell_type": "code",
   "execution_count": null,
   "id": "158c89ef",
   "metadata": {},
   "outputs": [],
   "source": []
  },
  {
   "cell_type": "code",
   "execution_count": null,
   "id": "7bf0745b",
   "metadata": {},
   "outputs": [],
   "source": []
  },
  {
   "cell_type": "code",
   "execution_count": null,
   "id": "dc7d4755",
   "metadata": {},
   "outputs": [],
   "source": []
  },
  {
   "cell_type": "code",
   "execution_count": null,
   "id": "cb61ebd1",
   "metadata": {},
   "outputs": [],
   "source": []
  },
  {
   "cell_type": "code",
   "execution_count": null,
   "id": "e0514b0f",
   "metadata": {},
   "outputs": [],
   "source": []
  },
  {
   "cell_type": "code",
   "execution_count": null,
   "id": "322419fb",
   "metadata": {},
   "outputs": [],
   "source": []
  },
  {
   "cell_type": "code",
   "execution_count": null,
   "id": "644fef63",
   "metadata": {},
   "outputs": [],
   "source": []
  },
  {
   "cell_type": "code",
   "execution_count": null,
   "id": "82b0a7c8",
   "metadata": {},
   "outputs": [],
   "source": []
  },
  {
   "cell_type": "code",
   "execution_count": 3,
   "id": "1041ca7e",
   "metadata": {},
   "outputs": [
    {
     "data": {
      "text/latex": [
       "$\\displaystyle - i \\delta_{ij} \\rho_{ij} + \\frac{i \\left(\\rho_{kj} \\Omega_{ik} - \\rho_{ik} \\Omega_{jk}\\right) \\left(e^{i \\left(- t \\omega + \\vec{k} \\vec{z}\\right)} + e^{- i \\left(- t \\omega + \\vec{k} \\vec{z}\\right)}\\right)}{2}$"
      ],
      "text/plain": [
       "-I*delta_ij*rho_ij + I*(Rabi_ik*rho_kj - Rabi_jk*rho_ik)*(exp(I*(-omega*t + kvec*zvec)) + exp(-I*(-omega*t + kvec*zvec)))/2"
      ]
     },
     "execution_count": 3,
     "metadata": {},
     "output_type": "execute_result"
    }
   ],
   "source": [
    "rhodot_ij = -I*delta_ij*rho_ij + (I/2)*(exp(I*(kvec*zvec-omega*t)) + exp(-I*(kvec*zvec-omega*t)))*(Rabi_ik*rho_kj-Rabi_jk*rho_ik)\n",
    "rhodot_ij"
   ]
  },
  {
   "cell_type": "code",
   "execution_count": 4,
   "id": "3b37b297",
   "metadata": {},
   "outputs": [
    {
     "data": {
      "text/latex": [
       "$\\displaystyle - i \\delta_{ij} \\rho_{ij} + \\frac{i \\left(\\tilde{\\rho}_{kj} e^{- i \\delta_{kj} t} \\Omega_{ik} - \\tilde{\\rho}_{ik} e^{- i \\delta_{ik} t} \\Omega_{jk}\\right) \\left(e^{i \\left(- t \\omega + \\vec{k} \\vec{z}\\right)} + e^{- i \\left(- t \\omega + \\vec{k} \\vec{z}\\right)}\\right)}{2}$"
      ],
      "text/plain": [
       "-I*delta_ij*rho_ij + I*(Rabi_ik*rhotilde_kj*exp(-I*delta_kj*t) - Rabi_jk*rhotilde_ik*exp(-I*delta_ik*t))*(exp(I*(-omega*t + kvec*zvec)) + exp(-I*(-omega*t + kvec*zvec)))/2"
      ]
     },
     "execution_count": 4,
     "metadata": {},
     "output_type": "execute_result"
    }
   ],
   "source": [
    "rhodot_ij = rhodot_ij.subs(rho_kj, rhotilde_kj*exp(-I*delta_kj*t))\n",
    "rhodot_ij = rhodot_ij.subs(rho_ik, rhotilde_ik*exp(-I*delta_ik*t))\n",
    "rhodot_ij"
   ]
  },
  {
   "cell_type": "code",
   "execution_count": 5,
   "id": "0748cac0",
   "metadata": {},
   "outputs": [
    {
     "data": {
      "text/latex": [
       "$\\displaystyle \\frac{i \\tilde{\\rho}_{kj} e^{i t \\omega} e^{- i \\delta_{kj} t} e^{- i \\vec{k} \\vec{z}} \\Omega_{ik}}{2} + \\frac{i \\tilde{\\rho}_{kj} e^{- i t \\omega} e^{- i \\delta_{kj} t} e^{i \\vec{k} \\vec{z}} \\Omega_{ik}}{2} - \\frac{i \\tilde{\\rho}_{ik} e^{i t \\omega} e^{- i \\delta_{ik} t} e^{- i \\vec{k} \\vec{z}} \\Omega_{jk}}{2} - \\frac{i \\tilde{\\rho}_{ik} e^{- i t \\omega} e^{- i \\delta_{ik} t} e^{i \\vec{k} \\vec{z}} \\Omega_{jk}}{2} - i \\delta_{ij} \\rho_{ij}$"
      ],
      "text/plain": [
       "I*Rabi_ik*rhotilde_kj*exp(I*omega*t)*exp(-I*delta_kj*t)*exp(-I*kvec*zvec)/2 + I*Rabi_ik*rhotilde_kj*exp(-I*omega*t)*exp(-I*delta_kj*t)*exp(I*kvec*zvec)/2 - I*Rabi_jk*rhotilde_ik*exp(I*omega*t)*exp(-I*delta_ik*t)*exp(-I*kvec*zvec)/2 - I*Rabi_jk*rhotilde_ik*exp(-I*omega*t)*exp(-I*delta_ik*t)*exp(I*kvec*zvec)/2 - I*delta_ij*rho_ij"
      ]
     },
     "execution_count": 5,
     "metadata": {},
     "output_type": "execute_result"
    }
   ],
   "source": [
    "rhodot_ij = rhodot_ij.expand()\n",
    "rhodot_ij"
   ]
  },
  {
   "cell_type": "code",
   "execution_count": 6,
   "id": "04495341",
   "metadata": {},
   "outputs": [
    {
     "data": {
      "text/latex": [
       "$\\displaystyle \\mathcal{L}_{t}\\left[\\frac{i \\tilde{\\rho}_{kj} e^{i t \\omega} e^{- i \\delta_{kj} t} e^{- i \\vec{k} \\vec{z}} \\Omega_{ik}}{2} + \\frac{i \\tilde{\\rho}_{kj} e^{- i t \\omega} e^{- i \\delta_{kj} t} e^{i \\vec{k} \\vec{z}} \\Omega_{ik}}{2} - \\frac{i \\tilde{\\rho}_{ik} e^{i t \\omega} e^{- i \\delta_{ik} t} e^{- i \\vec{k} \\vec{z}} \\Omega_{jk}}{2} - \\frac{i \\tilde{\\rho}_{ik} e^{- i t \\omega} e^{- i \\delta_{ik} t} e^{i \\vec{k} \\vec{z}} \\Omega_{jk}}{2} - i \\delta_{ij} \\rho_{ij}\\right]\\left(s\\right)$"
      ],
      "text/plain": [
       "LaplaceTransform(I*Rabi_ik*rhotilde_kj*exp(I*omega*t)*exp(-I*delta_kj*t)*exp(-I*kvec*zvec)/2 + I*Rabi_ik*rhotilde_kj*exp(-I*omega*t)*exp(-I*delta_kj*t)*exp(I*kvec*zvec)/2 - I*Rabi_jk*rhotilde_ik*exp(I*omega*t)*exp(-I*delta_ik*t)*exp(-I*kvec*zvec)/2 - I*Rabi_jk*rhotilde_ik*exp(-I*omega*t)*exp(-I*delta_ik*t)*exp(I*kvec*zvec)/2 - I*delta_ij*rho_ij, t, s)"
      ]
     },
     "execution_count": 6,
     "metadata": {},
     "output_type": "execute_result"
    }
   ],
   "source": [
    "s = Symbol(\"s\")\n",
    "L_rhodot_ij = LaplaceTransform(rhodot_ij, t, s)\n",
    "L_rhodot_ij"
   ]
  },
  {
   "cell_type": "code",
   "execution_count": 9,
   "id": "be4ab007",
   "metadata": {},
   "outputs": [
    {
     "data": {
      "text/latex": [
       "$\\displaystyle - \\frac{i \\delta_{ij} \\rho_{ij}}{s} + \\frac{1}{i \\omega + i \\delta_{kj} + s} + \\frac{1}{i \\omega + i \\delta_{ik} + s} + \\frac{1}{- i \\omega + i \\delta_{kj} + s} + \\frac{1}{- i \\omega + i \\delta_{ik} + s}$"
      ],
      "text/plain": [
       "-I*delta_ij*rho_ij/s + 1/(I*omega + I*delta_kj + s) + 1/(I*omega + I*delta_ik + s) + 1/(-I*omega + I*delta_kj + s) + 1/(-I*omega + I*delta_ik + s)"
      ]
     },
     "execution_count": 9,
     "metadata": {},
     "output_type": "execute_result"
    }
   ],
   "source": [
    "L_rhodot_ij.doit(simplify=False, noconds=True, needeval=True).simplify()"
   ]
  },
  {
   "cell_type": "code",
   "execution_count": null,
   "id": "e6d86c97",
   "metadata": {},
   "outputs": [],
   "source": []
  },
  {
   "cell_type": "code",
   "execution_count": null,
   "id": "9026f615",
   "metadata": {},
   "outputs": [],
   "source": []
  }
 ],
 "metadata": {
  "kernelspec": {
   "display_name": "Python 3 (ipykernel)",
   "language": "python",
   "name": "python3"
  },
  "language_info": {
   "codemirror_mode": {
    "name": "ipython",
    "version": 3
   },
   "file_extension": ".py",
   "mimetype": "text/x-python",
   "name": "python",
   "nbconvert_exporter": "python",
   "pygments_lexer": "ipython3",
   "version": "3.9.12"
  }
 },
 "nbformat": 4,
 "nbformat_minor": 5
}
