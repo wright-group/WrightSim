{
 "cells": [
  {
   "cell_type": "code",
   "execution_count": 3,
   "id": "d6f5e570",
   "metadata": {},
   "outputs": [],
   "source": [
    "# imports\n",
    "\n",
    "from sympy import *\n",
    "from sympy.physics.units.quantities import Quantity"
   ]
  },
  {
   "cell_type": "code",
   "execution_count": 8,
   "id": "0e449360",
   "metadata": {},
   "outputs": [],
   "source": [
    "# define variables\n",
    "\n",
    "#rhos\n",
    "rho_ij, rho_kj, rho_ik = symbols(\"rho_ij, rho_kj, rho_ik\", finite=True, extended_positive=True)\n",
    "#rhodots\n",
    "##rhodot_ij = symbols(\"rhodot_ij\")\n",
    "#rhotildes\n",
    "rhotilde_kj, rhotilde_ik = symbols(\"rhotilde_kj, rhotilde_ik\", finite=True, extended_positive=True)\n",
    "\n",
    "#deltas\n",
    "delta_ij, delta_kj, delta_ik = symbols(\"delta_ij, delta_kj, delta_ik\", complex=True)\n",
    "\n",
    "#Rabis\n",
    "Rabi_ik, Rabi_jk = symbols(\"Omega_ik, Omega_jk\")\n",
    "\n",
    "#omegas\n",
    "omega, omega_kj, omega_ik = symbols(\"omega, omega_kj, omega_ik\")\n",
    "\n",
    "#other\n",
    "t = Symbol(\"t\", extended_positive=True)\n",
    "hbar = Quantity(\"hbar\")\n",
    "kvec, zvec = symbols(\"kvec, zvec\", imaginary=False, complex=False)\n",
    "\n",
    "#symbols(\"rhodot_ij\")"
   ]
  },
  {
   "cell_type": "code",
   "execution_count": null,
   "id": "79c13462",
   "metadata": {},
   "outputs": [],
   "source": []
  }
 ],
 "metadata": {
  "kernelspec": {
   "display_name": "Python 3 (ipykernel)",
   "language": "python",
   "name": "python3"
  },
  "language_info": {
   "codemirror_mode": {
    "name": "ipython",
    "version": 3
   },
   "file_extension": ".py",
   "mimetype": "text/x-python",
   "name": "python",
   "nbconvert_exporter": "python",
   "pygments_lexer": "ipython3",
   "version": "3.9.12"
  }
 },
 "nbformat": 4,
 "nbformat_minor": 5
}
